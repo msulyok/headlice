{
  "nbformat": 4,
  "nbformat_minor": 0,
  "metadata": {
    "colab": {
      "name": "Time Series Prediction with LSTM Using PyTorch Louse",
      "provenance": [],
      "include_colab_link": true
    },
    "kernelspec": {
      "name": "python3",
      "display_name": "Python 3"
    },
    "accelerator": "GPU"
  },
  "cells": [
    {
      "cell_type": "markdown",
      "metadata": {
        "id": "view-in-github",
        "colab_type": "text"
      },
      "source": [
        "<a href=\"https://colab.research.google.com/github/msulyok/headlice/blob/main/Time_Series_Prediction_with_LSTM_Using_PyTorch_Louse.ipynb\" target=\"_parent\"><img src=\"https://colab.research.google.com/assets/colab-badge.svg\" alt=\"Open In Colab\"/></a>"
      ]
    },
    {
      "cell_type": "markdown",
      "metadata": {
        "id": "6FIi8t8NUTEJ"
      },
      "source": [
        "# Time Series Prediction with LSTM Using PyTorch\n",
        "\n",
        "This kernel is based on *datasets* from\n",
        "\n",
        "[Time Series Forecasting with the Long Short-Term Memory Network in Python](https://machinelearningmastery.com/time-series-forecasting-long-short-term-memory-network-python/)\n",
        "\n",
        "[Time Series Prediction with LSTM Recurrent Neural Networks in Python with Keras](https://machinelearningmastery.com/time-series-prediction-lstm-recurrent-neural-networks-python-keras/)\n"
      ]
    },
    {
      "cell_type": "markdown",
      "metadata": {
        "id": "S9DqRvEBU4aL"
      },
      "source": [
        "## Download Dataset"
      ]
    },
    {
      "cell_type": "code",
      "metadata": {
        "id": "BKMrjozgU3I_",
        "colab": {
          "base_uri": "https://localhost:8080/"
        },
        "outputId": "15ca8f78-ff44-448c-a238-3417b2366294"
      },
      "source": [
        "!wget https://raw.githubusercontent.com/msulyok/headlice/main/df.csv"
      ],
      "execution_count": 41,
      "outputs": [
        {
          "output_type": "stream",
          "name": "stdout",
          "text": [
            "--2022-03-25 09:58:58--  https://raw.githubusercontent.com/msulyok/headlice/main/df.csv\n",
            "Resolving raw.githubusercontent.com (raw.githubusercontent.com)... 185.199.109.133, 185.199.111.133, 185.199.110.133, ...\n",
            "Connecting to raw.githubusercontent.com (raw.githubusercontent.com)|185.199.109.133|:443... connected.\n",
            "HTTP request sent, awaiting response... 200 OK\n",
            "Length: 3520 (3.4K) [text/plain]\n",
            "Saving to: ‘df.csv.2’\n",
            "\n",
            "df.csv.2            100%[===================>]   3.44K  --.-KB/s    in 0s      \n",
            "\n",
            "2022-03-25 09:58:58 (28.8 MB/s) - ‘df.csv.2’ saved [3520/3520]\n",
            "\n"
          ]
        }
      ]
    },
    {
      "cell_type": "code",
      "metadata": {
        "id": "lA_En8ZAUSKG"
      },
      "source": [
        "import os\n",
        "os.rename('df.csv.2', 'df.csv')\n",
        "#!wget https://raw.githubusercontent.com/jbrownlee/Datasets/master/airline-passengers.csv"
      ],
      "execution_count": 42,
      "outputs": []
    },
    {
      "cell_type": "markdown",
      "metadata": {
        "id": "xSItPJipBaZ5"
      },
      "source": [
        "## Library"
      ]
    },
    {
      "cell_type": "code",
      "metadata": {
        "id": "wb-Z7wNKUJko"
      },
      "source": [
        "import numpy as np\n",
        "import matplotlib.pyplot as plt\n",
        "import pandas as pd\n",
        "import torch\n",
        "import torch.nn as nn\n",
        "from torch.autograd import Variable\n",
        "from sklearn.preprocessing import MinMaxScaler"
      ],
      "execution_count": 5,
      "outputs": []
    },
    {
      "cell_type": "markdown",
      "metadata": {
        "id": "e31mswiSBEEB"
      },
      "source": [
        "## Data Plot"
      ]
    },
    {
      "cell_type": "code",
      "metadata": {
        "id": "ooQPXSYhA_ps",
        "colab": {
          "base_uri": "https://localhost:8080/",
          "height": 265
        },
        "outputId": "ffc89ab7-0d9f-4416-aa54-22d594b1f481"
      },
      "source": [
        "training_set = pd.read_csv('df.csv')\n",
        "#training_set = pd.read_csv('shampoo.csv')\n",
        "\n",
        "training_set = training_set.iloc[:,1:2].values\n",
        "\n",
        "#plt.plot(training_set, label = 'Shampoo Sales Data')\n",
        "plt.plot(training_set, label = 'Google searches Louse')\n",
        "plt.show()"
      ],
      "execution_count": 43,
      "outputs": [
        {
          "output_type": "display_data",
          "data": {
            "text/plain": [
              "<Figure size 432x288 with 1 Axes>"
            ],
            "image/png": "[encoded data removed]"
          },
          "metadata": {
            "needs_background": "light"
          }
        }
      ]
    },
    {
      "cell_type": "code",
      "source": [
        ""
      ],
      "metadata": {
        "colab": {
          "base_uri": "https://localhost:8080/",
          "height": 262
        },
        "id": "Zt0CTpVDYA4L",
        "outputId": "4f28996b-9598-42d2-e142-03eff9cf413e"
      },
      "execution_count": 39,
      "outputs": [
        {
          "output_type": "error",
          "ename": "ParserError",
          "evalue": "ignored",
          "traceback": [
            "\u001b[0;31m---------------------------------------------------------------------------\u001b[0m",
            "\u001b[0;31mParserError\u001b[0m                               Traceback (most recent call last)",
            "\u001b[0;32m<ipython-input-39-6b8db88a1bdb>\u001b[0m in \u001b[0;36m<module>\u001b[0;34m()\u001b[0m\n\u001b[1;32m      1\u001b[0m \u001b[0;34m\u001b[0m\u001b[0m\n\u001b[1;32m      2\u001b[0m \u001b[0murl\u001b[0m \u001b[0;34m=\u001b[0m \u001b[0;34m\"https://github.com/msulyok/headlice/blob/main/df.csv\"\u001b[0m\u001b[0;34m\u001b[0m\u001b[0;34m\u001b[0m\u001b[0m\n\u001b[0;32m----> 3\u001b[0;31m \u001b[0mpd\u001b[0m\u001b[0;34m.\u001b[0m\u001b[0mread_csv\u001b[0m\u001b[0;34m(\u001b[0m\u001b[0murl\u001b[0m\u001b[0;34m)\u001b[0m\u001b[0;34m\u001b[0m\u001b[0;34m\u001b[0m\u001b[0m\n\u001b[0m",
            "\u001b[0;32m/usr/local/lib/python3.7/dist-packages/pandas/util/_decorators.py\u001b[0m in \u001b[0;36mwrapper\u001b[0;34m(*args, **kwargs)\u001b[0m\n\u001b[1;32m    309\u001b[0m                     \u001b[0mstacklevel\u001b[0m\u001b[0;34m=\u001b[0m\u001b[0mstacklevel\u001b[0m\u001b[0;34m,\u001b[0m\u001b[0;34m\u001b[0m\u001b[0;34m\u001b[0m\u001b[0m\n\u001b[1;32m    310\u001b[0m                 )\n\u001b[0;32m--> 311\u001b[0;31m             \u001b[0;32mreturn\u001b[0m \u001b[0mfunc\u001b[0m\u001b[0;34m(\u001b[0m\u001b[0;34m*\u001b[0m\u001b[0margs\u001b[0m\u001b[0;34m,\u001b[0m \u001b[0;34m**\u001b[0m\u001b[0mkwargs\u001b[0m\u001b[0;34m)\u001b[0m\u001b[0;34m\u001b[0m\u001b[0;34m\u001b[0m\u001b[0m\n\u001b[0m\u001b[1;32m    312\u001b[0m \u001b[0;34m\u001b[0m\u001b[0m\n\u001b[1;32m    313\u001b[0m         \u001b[0;32mreturn\u001b[0m \u001b[0mwrapper\u001b[0m\u001b[0;34m\u001b[0m\u001b[0;34m\u001b[0m\u001b[0m\n",
            "\u001b[0;32m/usr/local/lib/python3.7/dist-packages/pandas/io/parsers/readers.py\u001b[0m in \u001b[0;36mread_csv\u001b[0;34m(filepath_or_buffer, sep, delimiter, header, names, index_col, usecols, squeeze, prefix, mangle_dupe_cols, dtype, engine, converters, true_values, false_values, skipinitialspace, skiprows, skipfooter, nrows, na_values, keep_default_na, na_filter, verbose, skip_blank_lines, parse_dates, infer_datetime_format, keep_date_col, date_parser, dayfirst, cache_dates, iterator, chunksize, compression, thousands, decimal, lineterminator, quotechar, quoting, doublequote, escapechar, comment, encoding, encoding_errors, dialect, error_bad_lines, warn_bad_lines, on_bad_lines, delim_whitespace, low_memory, memory_map, float_precision, storage_options)\u001b[0m\n\u001b[1;32m    584\u001b[0m     \u001b[0mkwds\u001b[0m\u001b[0;34m.\u001b[0m\u001b[0mupdate\u001b[0m\u001b[0;34m(\u001b[0m\u001b[0mkwds_defaults\u001b[0m\u001b[0;34m)\u001b[0m\u001b[0;34m\u001b[0m\u001b[0;34m\u001b[0m\u001b[0m\n\u001b[1;32m    585\u001b[0m \u001b[0;34m\u001b[0m\u001b[0m\n\u001b[0;32m--> 586\u001b[0;31m     \u001b[0;32mreturn\u001b[0m \u001b[0m_read\u001b[0m\u001b[0;34m(\u001b[0m\u001b[0mfilepath_or_buffer\u001b[0m\u001b[0;34m,\u001b[0m \u001b[0mkwds\u001b[0m\u001b[0;34m)\u001b[0m\u001b[0;34m\u001b[0m\u001b[0;34m\u001b[0m\u001b[0m\n\u001b[0m\u001b[1;32m    587\u001b[0m \u001b[0;34m\u001b[0m\u001b[0m\n\u001b[1;32m    588\u001b[0m \u001b[0;34m\u001b[0m\u001b[0m\n",
            "\u001b[0;32m/usr/local/lib/python3.7/dist-packages/pandas/io/parsers/readers.py\u001b[0m in \u001b[0;36m_read\u001b[0;34m(filepath_or_buffer, kwds)\u001b[0m\n\u001b[1;32m    486\u001b[0m \u001b[0;34m\u001b[0m\u001b[0m\n\u001b[1;32m    487\u001b[0m     \u001b[0;32mwith\u001b[0m \u001b[0mparser\u001b[0m\u001b[0;34m:\u001b[0m\u001b[0;34m\u001b[0m\u001b[0;34m\u001b[0m\u001b[0m\n\u001b[0;32m--> 488\u001b[0;31m         \u001b[0;32mreturn\u001b[0m \u001b[0mparser\u001b[0m\u001b[0;34m.\u001b[0m\u001b[0mread\u001b[0m\u001b[0;34m(\u001b[0m\u001b[0mnrows\u001b[0m\u001b[0;34m)\u001b[0m\u001b[0;34m\u001b[0m\u001b[0;34m\u001b[0m\u001b[0m\n\u001b[0m\u001b[1;32m    489\u001b[0m \u001b[0;34m\u001b[0m\u001b[0m\n\u001b[1;32m    490\u001b[0m \u001b[0;34m\u001b[0m\u001b[0m\n",
            "\u001b[0;32m/usr/local/lib/python3.7/dist-packages/pandas/io/parsers/readers.py\u001b[0m in \u001b[0;36mread\u001b[0;34m(self, nrows)\u001b[0m\n\u001b[1;32m   1045\u001b[0m     \u001b[0;32mdef\u001b[0m \u001b[0mread\u001b[0m\u001b[0;34m(\u001b[0m\u001b[0mself\u001b[0m\u001b[0;34m,\u001b[0m \u001b[0mnrows\u001b[0m\u001b[0;34m=\u001b[0m\u001b[0;32mNone\u001b[0m\u001b[0;34m)\u001b[0m\u001b[0;34m:\u001b[0m\u001b[0;34m\u001b[0m\u001b[0;34m\u001b[0m\u001b[0m\n\u001b[1;32m   1046\u001b[0m         \u001b[0mnrows\u001b[0m \u001b[0;34m=\u001b[0m \u001b[0mvalidate_integer\u001b[0m\u001b[0;34m(\u001b[0m\u001b[0;34m\"nrows\"\u001b[0m\u001b[0;34m,\u001b[0m \u001b[0mnrows\u001b[0m\u001b[0;34m)\u001b[0m\u001b[0;34m\u001b[0m\u001b[0;34m\u001b[0m\u001b[0m\n\u001b[0;32m-> 1047\u001b[0;31m         \u001b[0mindex\u001b[0m\u001b[0;34m,\u001b[0m \u001b[0mcolumns\u001b[0m\u001b[0;34m,\u001b[0m \u001b[0mcol_dict\u001b[0m \u001b[0;34m=\u001b[0m \u001b[0mself\u001b[0m\u001b[0;34m.\u001b[0m\u001b[0m_engine\u001b[0m\u001b[0;34m.\u001b[0m\u001b[0mread\u001b[0m\u001b[0;34m(\u001b[0m\u001b[0mnrows\u001b[0m\u001b[0;34m)\u001b[0m\u001b[0;34m\u001b[0m\u001b[0;34m\u001b[0m\u001b[0m\n\u001b[0m\u001b[1;32m   1048\u001b[0m \u001b[0;34m\u001b[0m\u001b[0m\n\u001b[1;32m   1049\u001b[0m         \u001b[0;32mif\u001b[0m \u001b[0mindex\u001b[0m \u001b[0;32mis\u001b[0m \u001b[0;32mNone\u001b[0m\u001b[0;34m:\u001b[0m\u001b[0;34m\u001b[0m\u001b[0;34m\u001b[0m\u001b[0m\n",
            "\u001b[0;32m/usr/local/lib/python3.7/dist-packages/pandas/io/parsers/c_parser_wrapper.py\u001b[0m in \u001b[0;36mread\u001b[0;34m(self, nrows)\u001b[0m\n\u001b[1;32m    222\u001b[0m         \u001b[0;32mtry\u001b[0m\u001b[0;34m:\u001b[0m\u001b[0;34m\u001b[0m\u001b[0;34m\u001b[0m\u001b[0m\n\u001b[1;32m    223\u001b[0m             \u001b[0;32mif\u001b[0m \u001b[0mself\u001b[0m\u001b[0;34m.\u001b[0m\u001b[0mlow_memory\u001b[0m\u001b[0;34m:\u001b[0m\u001b[0;34m\u001b[0m\u001b[0;34m\u001b[0m\u001b[0m\n\u001b[0;32m--> 224\u001b[0;31m                 \u001b[0mchunks\u001b[0m \u001b[0;34m=\u001b[0m \u001b[0mself\u001b[0m\u001b[0;34m.\u001b[0m\u001b[0m_reader\u001b[0m\u001b[0;34m.\u001b[0m\u001b[0mread_low_memory\u001b[0m\u001b[0;34m(\u001b[0m\u001b[0mnrows\u001b[0m\u001b[0;34m)\u001b[0m\u001b[0;34m\u001b[0m\u001b[0;34m\u001b[0m\u001b[0m\n\u001b[0m\u001b[1;32m    225\u001b[0m                 \u001b[0;31m# destructive to chunks\u001b[0m\u001b[0;34m\u001b[0m\u001b[0;34m\u001b[0m\u001b[0;34m\u001b[0m\u001b[0m\n\u001b[1;32m    226\u001b[0m                 \u001b[0mdata\u001b[0m \u001b[0;34m=\u001b[0m \u001b[0m_concatenate_chunks\u001b[0m\u001b[0;34m(\u001b[0m\u001b[0mchunks\u001b[0m\u001b[0;34m)\u001b[0m\u001b[0;34m\u001b[0m\u001b[0;34m\u001b[0m\u001b[0m\n",
            "\u001b[0;32m/usr/local/lib/python3.7/dist-packages/pandas/_libs/parsers.pyx\u001b[0m in \u001b[0;36mpandas._libs.parsers.TextReader.read_low_memory\u001b[0;34m()\u001b[0m\n",
            "\u001b[0;32m/usr/local/lib/python3.7/dist-packages/pandas/_libs/parsers.pyx\u001b[0m in \u001b[0;36mpandas._libs.parsers.TextReader._read_rows\u001b[0;34m()\u001b[0m\n",
            "\u001b[0;32m/usr/local/lib/python3.7/dist-packages/pandas/_libs/parsers.pyx\u001b[0m in \u001b[0;36mpandas._libs.parsers.TextReader._tokenize_rows\u001b[0;34m()\u001b[0m\n",
            "\u001b[0;32m/usr/local/lib/python3.7/dist-packages/pandas/_libs/parsers.pyx\u001b[0m in \u001b[0;36mpandas._libs.parsers.raise_parser_error\u001b[0;34m()\u001b[0m\n",
            "\u001b[0;31mParserError\u001b[0m: Error tokenizing data. C error: Expected 1 fields in line 25, saw 376\n"
          ]
        }
      ]
    },
    {
      "cell_type": "markdown",
      "metadata": {
        "id": "NabsV8O5BBd5"
      },
      "source": [
        "## Dataloading"
      ]
    },
    {
      "cell_type": "code",
      "metadata": {
        "id": "vIWvJCpOVmwU"
      },
      "source": [
        "def sliding_windows(data, seq_length):\n",
        "    x = []\n",
        "    y = []\n",
        "\n",
        "    for i in range(len(data)-seq_length-1):\n",
        "        _x = data[i:(i+seq_length)]\n",
        "        _y = data[i+seq_length]\n",
        "        x.append(_x)\n",
        "        y.append(_y)\n",
        "\n",
        "    return np.array(x),np.array(y)\n",
        "\n",
        "sc = MinMaxScaler()\n",
        "training_data = sc.fit_transform(training_set)\n",
        "\n",
        "seq_length = 4\n",
        "x, y = sliding_windows(training_data, seq_length)\n",
        "\n",
        "train_size = int(len(y) * 0.67)\n",
        "test_size = len(y) - train_size\n",
        "\n",
        "dataX = Variable(torch.Tensor(np.array(x)))\n",
        "dataY = Variable(torch.Tensor(np.array(y)))\n",
        "\n",
        "trainX = Variable(torch.Tensor(np.array(x[0:train_size])))\n",
        "trainY = Variable(torch.Tensor(np.array(y[0:train_size])))\n",
        "\n",
        "testX = Variable(torch.Tensor(np.array(x[train_size:len(x)])))\n",
        "testY = Variable(torch.Tensor(np.array(y[train_size:len(y)])))"
      ],
      "execution_count": 44,
      "outputs": []
    },
    {
      "cell_type": "markdown",
      "metadata": {
        "id": "--1LVbHOBSIy"
      },
      "source": [
        "## Model"
      ]
    },
    {
      "cell_type": "code",
      "metadata": {
        "id": "_BcDEjcABRVz"
      },
      "source": [
        "class LSTM(nn.Module):\n",
        "\n",
        "    def __init__(self, num_classes, input_size, hidden_size, num_layers):\n",
        "        super(LSTM, self).__init__()\n",
        "        \n",
        "        self.num_classes = num_classes\n",
        "        self.num_layers = num_layers\n",
        "        self.input_size = input_size\n",
        "        self.hidden_size = hidden_size\n",
        "        self.seq_length = seq_length\n",
        "        \n",
        "        self.lstm = nn.LSTM(input_size=input_size, hidden_size=hidden_size,\n",
        "                            num_layers=num_layers, batch_first=True)\n",
        "        \n",
        "        self.fc = nn.Linear(hidden_size, num_classes)\n",
        "\n",
        "    def forward(self, x):\n",
        "        h_0 = Variable(torch.zeros(\n",
        "            self.num_layers, x.size(0), self.hidden_size))\n",
        "        \n",
        "        c_0 = Variable(torch.zeros(\n",
        "            self.num_layers, x.size(0), self.hidden_size))\n",
        "        \n",
        "        # Propagate input through LSTM\n",
        "        ula, (h_out, _) = self.lstm(x, (h_0, c_0))\n",
        "        \n",
        "        h_out = h_out.view(-1, self.hidden_size)\n",
        "        \n",
        "        out = self.fc(h_out)\n",
        "        \n",
        "        return out"
      ],
      "execution_count": 45,
      "outputs": []
    },
    {
      "cell_type": "markdown",
      "metadata": {
        "id": "tdzFI5GJBUF5"
      },
      "source": [
        "## Training"
      ]
    },
    {
      "cell_type": "code",
      "metadata": {
        "id": "a2vvHeFgVtCp",
        "colab": {
          "base_uri": "https://localhost:8080/"
        },
        "outputId": "84776c70-f3ab-4c33-89a0-138a6a20b96c"
      },
      "source": [
        "num_epochs = 2000\n",
        "learning_rate = 0.01\n",
        "\n",
        "input_size = 1\n",
        "hidden_size = 2\n",
        "num_layers = 1\n",
        "\n",
        "num_classes = 1\n",
        "\n",
        "lstm = LSTM(num_classes, input_size, hidden_size, num_layers)\n",
        "\n",
        "criterion = torch.nn.MSELoss()    # mean-squared error for regression\n",
        "optimizer = torch.optim.Adam(lstm.parameters(), lr=learning_rate)\n",
        "#optimizer = torch.optim.SGD(lstm.parameters(), lr=learning_rate)\n",
        "\n",
        "# Train the model\n",
        "for epoch in range(num_epochs):\n",
        "    outputs = lstm(trainX)\n",
        "    optimizer.zero_grad()\n",
        "    \n",
        "    # obtain the loss function\n",
        "    loss = criterion(outputs, trainY)\n",
        "    \n",
        "    loss.backward()\n",
        "    \n",
        "    optimizer.step()\n",
        "    if epoch % 100 == 0:\n",
        "      print(\"Epoch: %d, loss: %1.5f\" % (epoch, loss.item()))"
      ],
      "execution_count": 46,
      "outputs": [
        {
          "output_type": "stream",
          "name": "stdout",
          "text": [
            "Epoch: 0, loss: 0.06883\n",
            "Epoch: 100, loss: 0.02656\n",
            "Epoch: 200, loss: 0.01552\n",
            "Epoch: 300, loss: 0.01524\n",
            "Epoch: 400, loss: 0.01522\n",
            "Epoch: 500, loss: 0.01521\n",
            "Epoch: 600, loss: 0.01520\n",
            "Epoch: 700, loss: 0.01519\n",
            "Epoch: 800, loss: 0.01517\n",
            "Epoch: 900, loss: 0.01515\n",
            "Epoch: 1000, loss: 0.01512\n",
            "Epoch: 1100, loss: 0.01506\n",
            "Epoch: 1200, loss: 0.01499\n",
            "Epoch: 1300, loss: 0.01490\n",
            "Epoch: 1400, loss: 0.01478\n",
            "Epoch: 1500, loss: 0.01464\n",
            "Epoch: 1600, loss: 0.01447\n",
            "Epoch: 1700, loss: 0.01436\n",
            "Epoch: 1800, loss: 0.01431\n",
            "Epoch: 1900, loss: 0.01427\n"
          ]
        }
      ]
    },
    {
      "cell_type": "markdown",
      "metadata": {
        "id": "35ndYIwIKteS"
      },
      "source": [
        "## Testing"
      ]
    },
    {
      "cell_type": "code",
      "metadata": {
        "id": "CKEzO1jzKydL",
        "colab": {
          "base_uri": "https://localhost:8080/",
          "height": 294
        },
        "outputId": "b2a4bf2c-e33e-4dc0-a4c9-1e8aefcc1d7b"
      },
      "source": [
        "lstm.eval()\n",
        "train_predict = lstm(dataX)\n",
        "\n",
        "data_predict = train_predict.data.numpy()\n",
        "dataY_plot = dataY.data.numpy()\n",
        "\n",
        "data_predict = sc.inverse_transform(data_predict)\n",
        "dataY_plot = sc.inverse_transform(dataY_plot)\n",
        "\n",
        "plt.axvline(x=train_size, c='r', linestyle='--')\n",
        "\n",
        "plt.plot(dataY_plot)\n",
        "plt.plot(data_predict)\n",
        "plt.suptitle('Time-Series Prediction')\n",
        "plt.show()"
      ],
      "execution_count": 47,
      "outputs": [
        {
          "output_type": "display_data",
          "data": {
            "text/plain": [
              "<Figure size 432x288 with 1 Axes>"
            ],
            "image/png": "[encoded data removed]"
          },
          "metadata": {
            "needs_background": "light"
          }
        }
      ]
    },
    {
      "cell_type": "code",
      "source": [
        "dataY_plot"
      ],
      "metadata": {
        "colab": {
          "base_uri": "https://localhost:8080/"
        },
        "id": "6jRaaqArjaOk",
        "outputId": "a93f6dab-17f1-41ff-bdea-0d1938f3a5c2"
      },
      "execution_count": 57,
      "outputs": [
        {
          "output_type": "execute_result",
          "data": {
            "text/plain": [
              "array([[ 68.      ],\n",
              "       [ 65.      ],\n",
              "       [ 69.      ],\n",
              "       [ 76.      ],\n",
              "       [ 69.      ],\n",
              "       [ 65.      ],\n",
              "       [ 62.999996],\n",
              "       [ 59.      ],\n",
              "       [ 55.      ],\n",
              "       [ 66.      ],\n",
              "       [ 73.      ],\n",
              "       [ 65.      ],\n",
              "       [ 77.      ],\n",
              "       [ 70.      ],\n",
              "       [ 74.      ],\n",
              "       [ 66.      ],\n",
              "       [ 83.      ],\n",
              "       [ 91.      ],\n",
              "       [ 70.      ],\n",
              "       [ 83.      ],\n",
              "       [ 91.      ],\n",
              "       [ 80.00001 ],\n",
              "       [ 75.      ],\n",
              "       [ 82.      ],\n",
              "       [ 68.      ],\n",
              "       [ 84.      ],\n",
              "       [ 85.      ],\n",
              "       [ 87.      ],\n",
              "       [ 72.      ],\n",
              "       [ 70.      ],\n",
              "       [ 70.      ],\n",
              "       [ 75.      ],\n",
              "       [ 72.      ],\n",
              "       [ 63.999996],\n",
              "       [ 62.      ],\n",
              "       [ 62.999996],\n",
              "       [ 65.      ],\n",
              "       [ 61.      ],\n",
              "       [ 61.      ],\n",
              "       [ 77.      ],\n",
              "       [ 91.      ],\n",
              "       [ 76.      ],\n",
              "       [ 71.      ],\n",
              "       [ 73.      ],\n",
              "       [ 88.      ],\n",
              "       [ 69.      ],\n",
              "       [ 72.      ],\n",
              "       [ 61.      ],\n",
              "       [ 72.      ],\n",
              "       [ 66.      ],\n",
              "       [ 70.      ],\n",
              "       [ 63.999996],\n",
              "       [ 66.      ],\n",
              "       [ 55.      ],\n",
              "       [ 56.      ],\n",
              "       [ 61.      ],\n",
              "       [ 62.      ],\n",
              "       [ 69.      ],\n",
              "       [ 72.      ],\n",
              "       [ 70.      ],\n",
              "       [ 52.      ],\n",
              "       [ 62.999996],\n",
              "       [ 80.00001 ],\n",
              "       [ 66.      ],\n",
              "       [ 51.      ],\n",
              "       [ 65.      ],\n",
              "       [ 68.      ],\n",
              "       [ 61.      ],\n",
              "       [ 67.      ],\n",
              "       [ 67.      ],\n",
              "       [ 88.      ],\n",
              "       [ 89.00001 ],\n",
              "       [ 96.      ],\n",
              "       [ 92.      ],\n",
              "       [ 82.      ],\n",
              "       [ 88.      ],\n",
              "       [ 78.      ],\n",
              "       [ 84.      ],\n",
              "       [ 98.00001 ],\n",
              "       [ 76.      ],\n",
              "       [ 97.      ],\n",
              "       [ 67.      ],\n",
              "       [ 86.      ],\n",
              "       [ 80.00001 ],\n",
              "       [ 77.      ],\n",
              "       [ 73.      ],\n",
              "       [ 63.999996],\n",
              "       [ 63.999996],\n",
              "       [ 71.      ],\n",
              "       [ 69.      ],\n",
              "       [ 76.      ],\n",
              "       [ 80.00001 ],\n",
              "       [100.      ],\n",
              "       [ 92.      ],\n",
              "       [ 90.      ],\n",
              "       [ 69.      ],\n",
              "       [ 71.      ],\n",
              "       [ 80.00001 ],\n",
              "       [ 78.      ],\n",
              "       [ 77.      ],\n",
              "       [ 71.      ],\n",
              "       [ 78.      ],\n",
              "       [ 74.      ],\n",
              "       [ 71.      ],\n",
              "       [ 62.999996],\n",
              "       [ 72.      ],\n",
              "       [ 60.      ],\n",
              "       [ 65.      ],\n",
              "       [ 73.      ],\n",
              "       [ 62.999996],\n",
              "       [ 75.      ],\n",
              "       [ 66.      ],\n",
              "       [ 45.      ],\n",
              "       [ 69.      ],\n",
              "       [ 65.      ],\n",
              "       [ 59.      ],\n",
              "       [ 58.      ],\n",
              "       [ 71.      ],\n",
              "       [ 59.      ],\n",
              "       [ 76.      ],\n",
              "       [ 68.      ],\n",
              "       [ 71.      ],\n",
              "       [ 76.      ],\n",
              "       [ 72.      ],\n",
              "       [ 80.00001 ],\n",
              "       [ 82.      ],\n",
              "       [ 83.      ],\n",
              "       [ 79.00001 ],\n",
              "       [ 89.00001 ],\n",
              "       [ 85.      ],\n",
              "       [ 80.00001 ],\n",
              "       [ 84.      ],\n",
              "       [ 82.      ],\n",
              "       [ 77.      ],\n",
              "       [ 67.      ],\n",
              "       [ 77.      ],\n",
              "       [ 75.      ],\n",
              "       [ 76.      ],\n",
              "       [ 53.999996],\n",
              "       [ 79.00001 ],\n",
              "       [ 58.      ],\n",
              "       [ 61.      ],\n",
              "       [ 58.      ],\n",
              "       [ 72.      ],\n",
              "       [ 78.      ],\n",
              "       [ 77.      ],\n",
              "       [ 87.      ],\n",
              "       [ 75.      ],\n",
              "       [ 70.      ],\n",
              "       [ 66.      ],\n",
              "       [ 58.      ],\n",
              "       [ 70.      ],\n",
              "       [ 59.      ],\n",
              "       [ 74.      ],\n",
              "       [ 41.      ],\n",
              "       [ 39.      ],\n",
              "       [ 68.      ],\n",
              "       [ 61.      ],\n",
              "       [ 52.      ],\n",
              "       [ 42.      ],\n",
              "       [ 32.      ],\n",
              "       [ 30.      ],\n",
              "       [ 41.      ],\n",
              "       [ 38.      ],\n",
              "       [ 25.      ],\n",
              "       [ 30.      ],\n",
              "       [ 42.      ],\n",
              "       [ 29.      ],\n",
              "       [ 36.      ],\n",
              "       [ 35.      ],\n",
              "       [ 36.      ],\n",
              "       [ 35.      ],\n",
              "       [ 45.      ],\n",
              "       [ 31.      ],\n",
              "       [ 39.      ],\n",
              "       [ 34.      ],\n",
              "       [ 38.      ],\n",
              "       [ 38.      ],\n",
              "       [ 33.      ],\n",
              "       [ 48.      ],\n",
              "       [ 43.      ],\n",
              "       [ 40.000004],\n",
              "       [ 65.      ],\n",
              "       [ 51.      ],\n",
              "       [ 45.      ],\n",
              "       [ 48.      ],\n",
              "       [ 32.      ],\n",
              "       [ 39.      ],\n",
              "       [ 53.999996],\n",
              "       [ 42.      ],\n",
              "       [ 38.      ],\n",
              "       [ 41.      ],\n",
              "       [ 46.      ],\n",
              "       [ 38.      ],\n",
              "       [ 31.      ],\n",
              "       [ 34.      ],\n",
              "       [ 31.      ],\n",
              "       [ 37.      ],\n",
              "       [ 45.      ],\n",
              "       [ 33.      ],\n",
              "       [ 35.      ],\n",
              "       [ 28.      ],\n",
              "       [ 29.      ],\n",
              "       [ 35.      ],\n",
              "       [ 30.      ],\n",
              "       [ 37.      ],\n",
              "       [ 36.      ],\n",
              "       [ 37.      ],\n",
              "       [ 28.      ],\n",
              "       [ 30.      ],\n",
              "       [ 40.000004],\n",
              "       [ 37.      ],\n",
              "       [ 32.      ],\n",
              "       [ 41.      ],\n",
              "       [ 44.      ],\n",
              "       [ 47.      ],\n",
              "       [ 33.      ],\n",
              "       [ 38.      ],\n",
              "       [ 43.      ],\n",
              "       [ 41.      ],\n",
              "       [ 38.      ],\n",
              "       [ 41.      ],\n",
              "       [ 43.      ],\n",
              "       [ 47.      ],\n",
              "       [ 32.      ],\n",
              "       [ 41.      ],\n",
              "       [ 41.      ],\n",
              "       [ 56.      ],\n",
              "       [ 52.      ],\n",
              "       [ 51.      ],\n",
              "       [ 51.      ],\n",
              "       [ 52.      ],\n",
              "       [ 51.      ],\n",
              "       [ 56.      ],\n",
              "       [ 55.      ],\n",
              "       [ 42.      ],\n",
              "       [ 42.      ],\n",
              "       [ 53.      ],\n",
              "       [ 38.      ],\n",
              "       [ 47.      ],\n",
              "       [ 53.      ],\n",
              "       [ 53.      ],\n",
              "       [ 39.      ],\n",
              "       [ 36.      ],\n",
              "       [ 44.      ],\n",
              "       [ 40.000004]], dtype=float32)"
            ]
          },
          "metadata": {},
          "execution_count": 57
        }
      ]
    },
    {
      "cell_type": "code",
      "source": [
        "from math import sqrt\n",
        "from sklearn.metrics import mean_squared_error\n",
        "rmse = sqrt(mean_squared_error(dataY_plot, data_predict))\n",
        "print('RMSE: %.3f' % rmse)"
      ],
      "metadata": {
        "colab": {
          "base_uri": "https://localhost:8080/"
        },
        "id": "OqHV99C_j_G5",
        "outputId": "1db5aba4-56f2-41b4-f09a-54d408807214"
      },
      "execution_count": 61,
      "outputs": [
        {
          "output_type": "stream",
          "name": "stdout",
          "text": [
            "RMSE: 8.870\n"
          ]
        }
      ]
    },
    {
      "cell_type": "code",
      "source": [
        ""
      ],
      "metadata": {
        "id": "LQMnCfK_os3e"
      },
      "execution_count": null,
      "outputs": []
    }
  ]
}